{
 "cells": [
  {
   "cell_type": "markdown",
   "metadata": {},
   "source": [
    "# Linear and Polynomial Regression  \n",
    "\n",
    "## IMPORTANT: make sure to rerun all the code from the beginning to obtain the results for the final version of your notebook, since this is the way we will do it before evaluting your notebook!!! Do not change data files or their names\n",
    "\n"
   ]
  },
  {
   "cell_type": "markdown",
   "metadata": {},
   "source": [
    "Student name: Pujatti Mattia<br>\n",
    "ID Number: 1232236"
   ]
  },
  {
   "cell_type": "markdown",
   "metadata": {},
   "source": [
    "## 1) Linear Regression on the Boston House Price dataset\n",
    "\n",
    "\n",
    "\n",
    "## Dataset description\n",
    "\n",
    "The Boston House Price Dataset involves the prediction of a house price in thousands of dollars given details about the house and its neighborhood.\n",
    "\n",
    "The dataset contains a total of 500 observations, which relate 13 input features to an output variable (house price). <br>\n",
    "The variable names are as follows:\n",
    "1. CRIM: per capita crime rate by town. <br>\n",
    "2. ZN: proportion of residential land zoned for lots over 25,000 sq.ft. <br>\n",
    "3. INDUS: proportion of nonretail business acres per town. <br>\n",
    "4. CHAS: Charles River dummy variable (= 1 if tract bounds river; 0 otherwise). <br>\n",
    "5. NOX: nitric oxides concentration (parts per 10 million). <br>\n",
    "6. RM: average number of rooms per dwelling. <br>\n",
    "7. AGE: proportion of owner-occupied units built prior to 1940. <br>\n",
    "8. DIS: weighted distances to five Boston employment centers. <br>\n",
    "9. RAD: index of accessibility to radial highways. <br>\n",
    "10. TAX: full-value property-tax rate per $\\$$10,000. <br>\n",
    "11. PTRATIO: pupil-teacher ratio by town. <br>\n",
    "12. B: 1000*(Bk – 0.63)\\$^2\\$ where Bk is the proportion of blacks by town. <br>\n",
    "13. LSTAT: \\% lower status of the population. <br>\n",
    "14. MEDV: Median value of owner-occupied homes in $\\$$1000s. <br>"
   ]
  },
  {
   "cell_type": "code",
   "execution_count": null,
   "metadata": {},
   "outputs": [],
   "source": [
    "#needed if you get the IPython/javascript error on the in-line plots\n",
    "%matplotlib nbagg  \n",
    "\n",
    "import matplotlib.pyplot as plt\n",
    "import numpy as np\n",
    "import scipy as sp\n",
    "from scipy import stats"
   ]
  },
  {
   "cell_type": "markdown",
   "metadata": {},
   "source": [
    "## Import Data\n",
    "Load the data from a .csv file\n",
    "\n",
    "**TO DO:** insert a seed number (e.g., your ID number (matricola))\n"
   ]
  },
  {
   "cell_type": "code",
   "execution_count": null,
   "metadata": {},
   "outputs": [],
   "source": [
    "# Load the data\n",
    "IDnumber = 1232236 #PLACE A RANDOM SEED (your ID, but try also to change and see what happens)\n",
    "np.random.seed(IDnumber)\n",
    "\n",
    "filename = \"data/house.csv\"\n",
    "\n",
    "Data = np.genfromtxt(filename, delimiter=';',skip_header=1)"
   ]
  },
  {
   "cell_type": "markdown",
   "metadata": {},
   "source": [
    "# A quick overview of data\n",
    "\n",
    "To inspect the data you can use the method describe()"
   ]
  },
  {
   "cell_type": "code",
   "execution_count": null,
   "metadata": {},
   "outputs": [],
   "source": [
    "dataDescription = stats.describe(Data)\n",
    "print(dataDescription)\n",
    "\n",
    "print (\"Shape of data array: \" + str(Data.shape))\n",
    "\n",
    "#for more interesting visualization: use Panda!\n",
    "import pandas as pd\n",
    "pandas_data = pd.read_csv(filename,delimiter=';')\n",
    "print(pandas_data)"
   ]
  },
  {
   "cell_type": "markdown",
   "metadata": {},
   "source": [
    "# Split data in training, validation and test sets\n",
    "\n",
    "\n",
    "\n",
    "Given $m$ total data, denote with $m_{tv}$ the part used for training and validation. Keep $m_t$ data as training data, $m_{val}:=m_{tv}-m_t$ as validation data and $m_{test}:=m - m_{val} - m_t = m-m_{tv}$. For instance one can take $m_t=m/2$ of the data as training, $m_{val}=m/4$  validation and $m_{test}=m/4$ as testing. Let us define: \n",
    "\n",
    "$\\bullet$ $S_{t}$ the training data set\n",
    "\n",
    "$\\bullet$ $S_{val}$ the validation data set\n",
    "\n",
    "$\\bullet$ $S_{test}$ the testing data set\n",
    "\n",
    "\n",
    "The reason for this splitting is as follows:\n",
    "\n",
    "TRAINING DATA: The training data are used to compute the empirical loss\n",
    "$$\n",
    "L_S(h) = \\frac{1}{m_t} \\sum_{z_i \\in S_{t}} \\ell(h,z_i)\n",
    "$$\n",
    "which is used to estimate $h$ in a given model class ${\\cal H}$.\n",
    "i.e. \n",
    "$$\n",
    "\\hat{h} = {\\rm arg\\; min}_{h \\in {\\cal H}} \\, L_S(h)\n",
    "$$\n",
    "\n",
    "VALIDATION DATA: When different model classes are present (e.g. of different complexity such as linear regression which uses a different number $d_j$ of regressors $x_1$,...$x_{d_j}$), one has to choose which one is the \"best\" complexity. \n",
    "Let ${\\cal H}_{d_j}$ be the space of models as a function of the complexity $d_j$ and let \n",
    "$$\n",
    "\\hat h_{d_j} = {\\rm arg\\; min}_{h \\in {\\cal H}_{d_j}} \\, L_S(h)\n",
    "$$\n",
    "\n",
    "One can estimate the generalization error for model $\\hat h_{d_j}$ as follows:\n",
    "$$\n",
    "L_{{\\cal D}}(\\hat h_{d_j}) \\simeq \\frac{1}{m_{val}} \\sum_{ z_i \\in S_{val}} \\ell(\\hat h_{d_j},z_i)\n",
    "$$\n",
    "and then choose the complexity which achieves the best estimate of the generalization error\n",
    "$$\n",
    "\\hat d_j: = {\\rm arg\\; min}_{d_j} \\,\\frac{1}{m_{val}} \\sum_{ z_i \\in S_{val}} \\ell(\\hat h_{d_j},z_i)\n",
    "$$\n",
    "\n",
    "TESTING DATA: Last, the test data set can be used to estimate the performance of the final estimated model\n",
    "$\\hat h_{\\hat d_j}$ using:\n",
    "$$\n",
    "L_{{\\cal D}}(\\hat h_{\\hat d_j}) \\simeq \\frac{1}{m_{test}} \\sum_{ z_i \\in S_{test}} \\ell(\\hat h_{\\hat d_j},z_i)\n",
    "$$\n",
    "\n",
    "\n",
    "**TO DO**: split the data in training, validation and test sets (50%-25%-25%)"
   ]
  },
  {
   "cell_type": "code",
   "execution_count": null,
   "metadata": {},
   "outputs": [],
   "source": [
    "#get number of total samples\n",
    "num_total_samples = Data.shape[0]\n",
    "print (\"Total number of samples: \", num_total_samples)\n",
    "\n",
    "#size of each chunk of data (1/4 each): 2 of them for training, 1 for validation, 1 for testing\n",
    "size_chunk = int(num_total_samples/4)\n",
    "features = 13\n",
    "m_training = 2*size_chunk\n",
    "m_validation = m_test = size_chunk\n",
    "\n",
    "print (\"Size of each chunk of data: \", size_chunk)\n",
    "\n",
    "#shuffle the data\n",
    "np.random.shuffle(Data)\n",
    "\n",
    "#training data \n",
    "\n",
    "X_training = Data[0:m_training,:13]\n",
    "Y_training = Data[0:m_training,13:]\n",
    "print (\"Training input data size: \", X_training.shape)\n",
    "print (\"Training output data size: \", Y_training.shape)\n",
    "\n",
    "#validation data, to be used to choose among different models\n",
    "X_validation = Data[2*size_chunk:3*size_chunk,:13]\n",
    "Y_validation = Data[2*size_chunk:3*size_chunk,13:]\n",
    "print (\"Validation input data size: \", X_validation.shape)\n",
    "print (\"Validation output data size: \", Y_validation.shape)\n",
    "\n",
    "#test data, to be used to estimate the true loss of the final model(s)\n",
    "X_test = Data[3*size_chunk:,:13]\n",
    "Y_test = Data[3*size_chunk:,13:]\n",
    "print (\"Test input data size: \", X_test.shape)\n",
    "print (\"Test output data size: \", Y_test.shape)\n"
   ]
  },
  {
   "cell_type": "markdown",
   "metadata": {},
   "source": [
    "# Data Normalization\n",
    "\n",
    "It is common practice in Statistics and Machine Learning to scale the data (= each variable) so that it is centered (zero mean) and has standard deviation equal to $1$. This helps in terms of numerical conditioning of the (inverse) problems of estimating the model (the coefficients of the linear regression in this case), as well as to give the same scale to all the coefficients. "
   ]
  },
  {
   "cell_type": "code",
   "execution_count": null,
   "metadata": {},
   "outputs": [],
   "source": [
    "#scale the data\n",
    "\n",
    "# standardize the input matrix\n",
    "from sklearn import preprocessing\n",
    "# the transformation is computed on training data and then used on all the 3 sets\n",
    "scaler = preprocessing.StandardScaler().fit(X_training) \n",
    "\n",
    "X_training = scaler.transform(X_training)\n",
    "print (\"Mean of the training input data:\", X_training.mean(axis=0))\n",
    "print (\"Std of the training input data:\",X_training.std(axis=0))\n",
    "\n",
    "X_validation = scaler.transform(X_validation) # use the same transformation on validation data\n",
    "print (\"Mean of the validation input data:\", X_validation.mean(axis=0))\n",
    "print (\"Std of the validation input data:\", X_validation.std(axis=0))\n",
    "\n",
    "X_test = scaler.transform(X_test) # use the same transformation on test data\n",
    "print (\"Mean of the test input data:\", X_test.mean(axis=0))\n",
    "print (\"Std of the test input data:\", X_test.std(axis=0))\n"
   ]
  },
  {
   "cell_type": "markdown",
   "metadata": {},
   "source": [
    "# Model Training \n",
    "\n",
    "The model is trained (= estimated) minimizing the empirical error\n",
    "$$\n",
    "L_S(h) := \\frac{1}{m_t} \\sum_{z_i \\in S_{t}} \\ell(h,z_i)\n",
    "$$\n",
    "When the loss function is the quadratic loss\n",
    "$$\n",
    "\\ell(h,z) := (y - h(x))^2\n",
    "$$\n",
    "we define  the Residual Sum of Squares (RSS) as\n",
    "$$\n",
    "RSS(h):= \\sum_{z_i \\in S_{t}} \\ell(h,z_i) = \\sum_{z_i \\in S_{t}} (y_i - h(x_i))^2\n",
    "$$ so that the training error becomes\n",
    "$$\n",
    "L_S(h) = \\frac{RSS(h)}{m_t}\n",
    "$$\n",
    "\n",
    "We recal that, for linear models we have $h(x) = <w,x>$ and the Empirical error $L_S(h)$ can be written\n",
    "in terms of the vector of parameters $w$ in the form\n",
    "$$\n",
    "L_S(w) = \\frac{1}{m_t} \\|Y - X w\\|^2\n",
    "$$\n",
    "where $Y$ and $X$ are the matrices whose $i-$th row are, respectively, the output data $y_i$ and the input vectors $x_i^\\top$.\n",
    "\n",
    "\n",
    " **TO DO:** compute the linear regression coefficients implementing the least square algorithm as done in the introductory lab **and** using np.linalg.lstsq from scikitlear "
   ]
  },
  {
   "cell_type": "markdown",
   "metadata": {},
   "source": [
    "## Data prediction \n",
    "\n",
    "Compute the output predictions on both training and validation set and compute the Residual Sum of Sqaures (RSS) defined above, the Emprical Loss and the quantity $1-R^2$ where\n",
    "$$\n",
    "R^2 = \\frac{\\sum_{z_i \\in S_t} (\\hat y_i - \\bar y)^2}{\\sum_{z_i \\in S_t} (y_i - \\bar y)^2} \\quad \\quad \\bar y = \\frac{1}{m_t} \\sum_{z_i \\in S_t} y_i\n",
    "$$\n",
    "is the so-called \"Coefficient of determination\" (COD)\n",
    "\n",
    "**TO DO**: Compute these quantities on  training, validation and test sets.\n"
   ]
  },
  {
   "cell_type": "code",
   "execution_count": null,
   "metadata": {},
   "outputs": [],
   "source": [
    "def RSS(X,Y,w):\n",
    "    \n",
    "    RSS = 0\n",
    "    for i in range(Y.shape[0]):\n",
    "        RSS += (Y[i] - np.dot(np.transpose(w),np.transpose(X[i])))**2\n",
    "    \n",
    "    return RSS"
   ]
  },
  {
   "cell_type": "code",
   "execution_count": null,
   "metadata": {},
   "outputs": [],
   "source": [
    "#compute linear regression coefficients for training data\n",
    "\n",
    "#add a 1 at the beginning of each sample for training, validation, and testing (use homogeneous coordinates)\n",
    "\n",
    "if (X_training.shape[1]==features):  # To prevent multiple columns addition via multiple executions of this box\n",
    "    X_training=np.hstack((np.ones((X_training.shape[0],1)),X_training))\n",
    "if (X_validation.shape[1]==features):  # To prevent multiple columns addition via multiple executions of this box\n",
    "    X_validation=np.hstack((np.ones((X_validation.shape[0],1)),X_validation))\n",
    "if (X_test.shape[1]==features):  # To prevent multiple columns addition via multiple executions of this box\n",
    "    X_test=np.hstack((np.ones((X_test.shape[0],1)),X_test))\n",
    "    \n",
    "# Compute the least-squares solution using the same approach of LAB0\n",
    "A = np.zeros((features+1,features+1))\n",
    "b = np.zeros((features+1,1))\n",
    "\n",
    "for i in range(m_training):\n",
    "    sample = X_training[i].reshape((features+1,1))\n",
    "    A += np.matmul(sample,np.transpose(sample))\n",
    "    b += Y_training[i]*sample\n",
    "\n",
    "w_hand = np.matmul(np.linalg.inv(A),b)\n",
    "\n",
    "# Compute the least-squares coefficients using linalg.lstsq\n",
    "w_np, RSStr_np, rank_Xtr, sv_Xtr = np.linalg.lstsq(A,b.reshape((14,1)),rcond=None) #rcond=None avoids warning message\n",
    "\n",
    "print(\"LS coefficients by hand:\", w_hand)\n",
    "print(\"LS coefficients with numpy lstsq:\", w_np)\n",
    "\n",
    "# compute Residual sums of squares by hand\n",
    "RSStr_hand = RSS(X_training,Y_training,w_hand)\n",
    "\n",
    "print(\"RSS by hand:\",  RSStr_hand)\n",
    "print(\"RSS with numpy lstsq: \", RSStr_np)\n",
    "\n",
    "print(\"Empirical risk by hand:\", RSStr_hand/m_training)\n",
    "print(\"Empirical risk with numpy lstsq:\", RSStr_np/m_training)\n",
    "\n",
    "# I can't compute the residual sum of squares with linalg.lstsq because this function return an empty array \n",
    "# in the case the matrix A is a NxN matrix, but if it wasn't I couldn't invert it. So, I don't know if there is \n",
    "# an error somewhere or not."
   ]
  },
  {
   "cell_type": "code",
   "execution_count": null,
   "metadata": {},
   "outputs": [],
   "source": [
    "def R2(labels,predictions):\n",
    "    \n",
    "    num = den = 0\n",
    "    y_bar = sum(labels)/labels.shape[0]\n",
    "    for l in range(labels.shape[0]):\n",
    "        num += (predictions[l]-y_bar)**2\n",
    "        den += (labels[l]-y_bar)**2\n",
    "    \n",
    "    return num/den"
   ]
  },
  {
   "cell_type": "code",
   "execution_count": null,
   "metadata": {
    "scrolled": true
   },
   "outputs": [],
   "source": [
    "#compute predictions on training and validation\n",
    "\n",
    "prediction_training = np.array([np.dot(X_training[i].reshape((features+1,1)).T,w_hand) for i in range(m_training)]).reshape((m_training,1))\n",
    "prediction_validation = np.array([np.dot(X_validation[j].reshape((features+1,1)).T,w_hand) for j in range(m_validation)]).reshape((m_validation,1))\n",
    "prediction_test = np.array([np.dot(X_test[k].reshape((features+1,1)).T,w_hand) for k in range(m_test)]).reshape((m_test,1))\n",
    "\n",
    "#what about the loss for points in the validation and test data?\n",
    "RSS_validation = RSS(X_validation,Y_validation,w_hand)\n",
    "RSS_test = RSS(X_test,Y_test,w_hand)\n",
    "\n",
    "print(\"RSS on validation data:\",  RSS_validation)\n",
    "print(\"Loss estimated from validation data:\", RSS_validation/m_validation)\n",
    "print(\"RSS on test data:\",  RSS_test)\n",
    "print(\"Loss estimated from test data:\", RSS_test/m_test)\n",
    "\n",
    "#another measure of how good our linear fit is given by the following (that is 1 - R^2)\n",
    "    \n",
    "measure_training = 1-R2(Y_training,prediction_training)\n",
    "measure_validation = 1-R2(Y_validation,prediction_validation)\n",
    "measure_test = 1-R2(Y_test,prediction_test)\n",
    "\n",
    "print(\"Measure on Training Data (1-R^2):\", measure_training)\n",
    "print(\"Measure on Validation Data(1-R^2):\", measure_validation)\n",
    "print(\"Measure on Test Data(1-R^2):\", measure_test)"
   ]
  },
  {
   "cell_type": "markdown",
   "metadata": {},
   "source": [
    "**QUESTION 1**: Comment on the results you get and on the difference between the train, validation and test errors. <rb>\n",
    "    \n",
    "Except for what I commented above, i.e. the problem with the function linalg.lstsq, the RSS computed for the 3 datasets are quite similar, index of effectiveness of the algorithm. Regarding, instead, the measure  on these sets, we obtained reasonable results, except for the validation test, in which the quantity 1-R^2 is negative, but I can't find the problem."
   ]
  },
  {
   "cell_type": "markdown",
   "metadata": {},
   "source": [
    "## ... and plot:\n",
    "\n",
    "\n",
    "### (1) output predictions on training  data"
   ]
  },
  {
   "cell_type": "code",
   "execution_count": null,
   "metadata": {},
   "outputs": [],
   "source": [
    "# Plot predictions on Training data \n",
    "plt.figure()\n",
    "\n",
    "#the following is just for nice plotting, not required: it sorts the predictions by value so that they fall on\n",
    "# a line and it's easier to spot the differences\n",
    "\n",
    "# NOTICE: This code is suitable for the \"standard\" solution, check that the variable names \n",
    "# and structure are compatible with your implementation\n",
    "\n",
    "sorting_permutation = sorted(range(len(prediction_training[0:m_training])), key=lambda k: prediction_training[0:m_training][k])\n",
    "plt.plot(Y_training[sorting_permutation], 'ko', alpha=0.5)\n",
    "plt.plot(prediction_training[sorting_permutation], 'rx')\n",
    "\n",
    "plt.xlabel('Input (index of instance)')\n",
    "plt.ylabel('Predicted Output')\n",
    "plt.title('Predictions on Training Data')\n",
    "plt.show()"
   ]
  },
  {
   "cell_type": "markdown",
   "metadata": {},
   "source": [
    "### (2) output predictions on validation  data"
   ]
  },
  {
   "cell_type": "code",
   "execution_count": null,
   "metadata": {},
   "outputs": [],
   "source": [
    "# Plot predictions on validation data \n",
    "plt.figure()\n",
    "\n",
    "#the following is just for nice plotting, not required: it sorts the predictions by value so that they fall on\n",
    "# a line and it's easier to spot the differences\n",
    "\n",
    "# NOTICE: This code is suitable for the \"standard\" solution, check that the variable names \n",
    "# and structure are compatible with your implementation\n",
    "\n",
    "sorting_permutation = sorted(range(len(prediction_validation[0:m_validation])), key=lambda k: prediction_validation[0:m_validation][k])\n",
    "plt.plot(Y_validation[sorting_permutation], 'ko', alpha=0.5)\n",
    "plt.plot(prediction_validation[sorting_permutation], 'gx')\n",
    "\n",
    "\n",
    "plt.xlabel('Input (index of instance)')\n",
    "plt.ylabel('Predicted Output')\n",
    "plt.title('Predictions on Validation Data')\n",
    "plt.show()"
   ]
  },
  {
   "cell_type": "markdown",
   "metadata": {},
   "source": [
    "## Ordinary Least-Squares using scikit-learn\n",
    "\n",
    "A fast way to compute the LS estimate is through sklearn.linear_model"
   ]
  },
  {
   "cell_type": "code",
   "execution_count": null,
   "metadata": {},
   "outputs": [],
   "source": [
    "from sklearn import linear_model\n",
    "LinReg = linear_model.LinearRegression()  # build the object LinearRegression\n",
    "LinReg.fit(X_training, Y_training)  # estimate the LS coefficients\n",
    "print(\"Intercept:\", LinReg.intercept_)\n",
    "print(\"Least-Squares Coefficients:\", LinReg.coef_)\n",
    "prediction_training = LinReg.predict(X_training)  # predict output values on training set\n",
    "prediction_test = LinReg.predict(X_test)  # predict output values on test set\n",
    "print(\"Measure on training data:\", 1-LinReg.score(X_training, Y_training))\n"
   ]
  },
  {
   "cell_type": "markdown",
   "metadata": {},
   "source": [
    "# 2) Polynomial Regression\n",
    "\n",
    "In this exercise you need to use polynomial regression to estimate the height reached by a ball thrown into air. The motion of the ball is controlled by the motion equation with uniform acceleration (in our case given by the gravity) that is a quadratic model. You need to estimate the initial height of the ball (h), the initial speed at which it was launched (v) and the gravity acceleration (g). The equation of the motion is : $y = h + vt + \\frac{1}{2} gt^2$ .\n",
    "In the motion.csv file you can find the measured height values (subject to noise) and the corresponding time instants."
   ]
  },
  {
   "cell_type": "code",
   "execution_count": null,
   "metadata": {},
   "outputs": [],
   "source": [
    "#import the required packages\n",
    "import matplotlib.pyplot as plt\n",
    "import csv\n",
    "from scipy import stats\n",
    "import numpy as np\n",
    "import sklearn as sl\n",
    "from sklearn import linear_model"
   ]
  },
  {
   "cell_type": "code",
   "execution_count": null,
   "metadata": {},
   "outputs": [],
   "source": [
    "# load the data (time and height values) from the motion.csv file\n",
    "with open('data/motion.csv', 'r') as f:\n",
    "    motion = csv.reader(f, delimiter=';')\n",
    "    \n",
    "    header = next(motion) #skip first line\n",
    "    print(header)\n",
    "    \n",
    "    # get all the rows as a list\n",
    "    data = list(motion)\n",
    "    # transform data into numpy array\n",
    "    data = np.array(data).astype(float)\n",
    "\n",
    "x = data[:,0].reshape(-1,1)\n",
    "y = data[:,1].reshape(-1,1)\n",
    "    \n",
    "print(x.shape)\n",
    "print(y.shape)"
   ]
  },
  {
   "cell_type": "code",
   "execution_count": null,
   "metadata": {},
   "outputs": [],
   "source": [
    "# try to perform a linear regression (it does not work properly, the model is quadratic !)\n",
    "\n",
    "slope, intercept, r_value, p_value, std_err = stats.linregress(x.reshape(1,500),y.reshape(1,500))\n",
    "\n",
    "print('slope (linregress): ', slope,'  intercept (lnregress):', intercept);\n",
    "print('correlation coefficient:', r_value)"
   ]
  },
  {
   "cell_type": "code",
   "execution_count": null,
   "metadata": {},
   "outputs": [],
   "source": [
    "# use polynomial regression (the feature vectors have three components:\n",
    "# they contain all 1s (for bias), the input data $x$ and their squared values $x^2$\n",
    "\n",
    "dataX = np.zeros([500,3])  \n",
    "dataX[:,0] = np.ones([500])  # dataX[:,0]: bias \n",
    "dataX[:,1] = x[:,0]   # dataX[:,1]: 1st order terms\n",
    "dataX[:,2] =x[:,0]*x[:,0]   # dataX[:,2]: 2nd order terms\n",
    "\n",
    "reg = linear_model.LinearRegression() \n",
    "reg.fit(dataX, y)\n",
    "\n",
    "h = reg.coef_[0][0]\n",
    "v = reg.coef_[0][1]\n",
    "g = 2*reg.coef_[0][2]\n",
    "sc = reg.score(dataX, y) # reg.score contains the square of the correlation coefficient\n",
    "\n",
    "\n",
    "print('initial position: ', h,'  initial speed:', v, ' gravity acceleration:', g )\n",
    "print('correlation coefficient:', np.sqrt(sc))"
   ]
  },
  {
   "cell_type": "markdown",
   "metadata": {},
   "source": [
    "**Question 2** Explain what do you conclude looking at the linear and polynomial fitting ?  <br>\n",
    "\n",
    "Just looking at the poor correlation coefficient in the box of linear fitting, I can conclude that data are not linearly distributed. Instead, moving to an higher dimension bring better results, with a correlation coefficient almost equal to 1 and a correct estimate of the gravity acceleration."
   ]
  },
  {
   "cell_type": "code",
   "execution_count": null,
   "metadata": {
    "scrolled": false
   },
   "outputs": [],
   "source": [
    "# plot the input data and the estimated models\n",
    "plt.plot(x,y,label='data')\n",
    "plt.plot(x,x*slope + intercept,label='linear predictions')\n",
    "\n",
    "plt.title('Predictions using a linear model')\n",
    "plt.xlabel('Time')\n",
    "plt.ylabel('Height')"
   ]
  },
  {
   "cell_type": "code",
   "execution_count": null,
   "metadata": {},
   "outputs": [],
   "source": [
    "# plot the input data and the estimated models\n",
    "plt.plot(x,y,label='data')\n",
    "plt.plot(x,h+v*x+0.5*g*(x**2),label='polynomial predictions')\n",
    "\n",
    "plt.title('Predictions using a polynomial model')\n",
    "plt.xlabel('Time')\n",
    "plt.ylabel('Height')"
   ]
  },
  {
   "cell_type": "code",
   "execution_count": null,
   "metadata": {},
   "outputs": [],
   "source": []
  }
 ],
 "metadata": {
  "anaconda-cloud": {},
  "celltoolbar": "Raw Cell Format",
  "kernelspec": {
   "display_name": "Python 3",
   "language": "python",
   "name": "python3"
  },
  "language_info": {
   "codemirror_mode": {
    "name": "ipython",
    "version": 3
   },
   "file_extension": ".py",
   "mimetype": "text/x-python",
   "name": "python",
   "nbconvert_exporter": "python",
   "pygments_lexer": "ipython3",
   "version": "3.7.4"
  }
 },
 "nbformat": 4,
 "nbformat_minor": 2
}
